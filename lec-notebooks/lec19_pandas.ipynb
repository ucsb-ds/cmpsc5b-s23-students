{
 "cells": [
  {
   "cell_type": "markdown",
   "metadata": {
    "id": "w6ksaXivSCJM"
   },
   "source": [
    "# Pandas - Example"
   ]
  },
  {
   "cell_type": "code",
   "execution_count": 75,
   "metadata": {
    "id": "FojExZocvinK",
    "tags": []
   },
   "outputs": [],
   "source": [
    "import pandas as pd\n",
    "import numpy as np"
   ]
  },
  {
   "cell_type": "markdown",
   "metadata": {},
   "source": [
    "## Loading and inspecting data\n",
    "- `df = pd.read_csv()`\n",
    "- `.shape`\n",
    "- `.info()`\n",
    "- `.head()` / `.tail()`\n",
    "- `.sort_values('units', ascending=False)` "
   ]
  },
  {
   "cell_type": "code",
   "execution_count": 76,
   "metadata": {
    "id": "wi6wHT1UHBfl",
    "tags": []
   },
   "outputs": [],
   "source": [
    "# Read the CSV file into a pandas dataframe.\n",
    "df_homes = pd.read_csv('data/pandas_example.csv')"
   ]
  },
  {
   "cell_type": "code",
   "execution_count": 79,
   "metadata": {
    "colab": {
     "base_uri": "https://localhost:8080/"
    },
    "id": "5XSUigLP3iRK",
    "outputId": "e0f37996-6bbc-4bda-9f42-45e569b06543",
    "tags": []
   },
   "outputs": [
    {
     "data": {
      "text/plain": [
       "(67638, 11)"
      ]
     },
     "execution_count": 79,
     "metadata": {},
     "output_type": "execute_result"
    }
   ],
   "source": [
    "# Check the dimensions of the dataset.\n",
    "df_homes.shape"
   ]
  },
  {
   "cell_type": "code",
   "execution_count": 80,
   "metadata": {
    "colab": {
     "base_uri": "https://localhost:8080/"
    },
    "id": "orxR488QxJRH",
    "outputId": "41154a76-be7f-47e5-83fe-3d673db152a5",
    "tags": []
   },
   "outputs": [
    {
     "name": "stdout",
     "output_type": "stream",
     "text": [
      "<class 'pandas.core.frame.DataFrame'>\n",
      "RangeIndex: 67638 entries, 0 to 67637\n",
      "Data columns (total 11 columns):\n",
      " #   Column        Non-Null Count  Dtype \n",
      "---  ------        --------------  ----- \n",
      " 0   id            67638 non-null  int64 \n",
      " 1   borough       67638 non-null  int64 \n",
      " 2   neighborhood  67638 non-null  object\n",
      " 3   block         67638 non-null  int64 \n",
      " 4   lot           67638 non-null  int64 \n",
      " 5   easement      67638 non-null  object\n",
      " 6   units         67638 non-null  int64 \n",
      " 7   land_sqft     67638 non-null  object\n",
      " 8   gross_sqft    67638 non-null  object\n",
      " 9   year_built    67638 non-null  int64 \n",
      " 10  sale_price    67638 non-null  object\n",
      "dtypes: int64(6), object(5)\n",
      "memory usage: 5.7+ MB\n"
     ]
    }
   ],
   "source": [
    "# List the columns and their data types.\n",
    "df_homes.info()"
   ]
  },
  {
   "cell_type": "code",
   "execution_count": 81,
   "metadata": {
    "tags": []
   },
   "outputs": [
    {
     "data": {
      "text/html": [
       "<div>\n",
       "<style scoped>\n",
       "    .dataframe tbody tr th:only-of-type {\n",
       "        vertical-align: middle;\n",
       "    }\n",
       "\n",
       "    .dataframe tbody tr th {\n",
       "        vertical-align: top;\n",
       "    }\n",
       "\n",
       "    .dataframe thead th {\n",
       "        text-align: right;\n",
       "    }\n",
       "</style>\n",
       "<table border=\"1\" class=\"dataframe\">\n",
       "  <thead>\n",
       "    <tr style=\"text-align: right;\">\n",
       "      <th></th>\n",
       "      <th>id</th>\n",
       "      <th>borough</th>\n",
       "      <th>block</th>\n",
       "      <th>lot</th>\n",
       "      <th>units</th>\n",
       "      <th>year_built</th>\n",
       "    </tr>\n",
       "  </thead>\n",
       "  <tbody>\n",
       "    <tr>\n",
       "      <th>count</th>\n",
       "      <td>67638.000000</td>\n",
       "      <td>67638.000000</td>\n",
       "      <td>67638.000000</td>\n",
       "      <td>67638.000000</td>\n",
       "      <td>67638.000000</td>\n",
       "      <td>67638.000000</td>\n",
       "    </tr>\n",
       "    <tr>\n",
       "      <th>mean</th>\n",
       "      <td>42214.906532</td>\n",
       "      <td>2.995461</td>\n",
       "      <td>4238.882640</td>\n",
       "      <td>377.266891</td>\n",
       "      <td>2.292291</td>\n",
       "      <td>1788.988512</td>\n",
       "    </tr>\n",
       "    <tr>\n",
       "      <th>std</th>\n",
       "      <td>24429.882151</td>\n",
       "      <td>1.290967</td>\n",
       "      <td>3570.366857</td>\n",
       "      <td>657.478952</td>\n",
       "      <td>19.526978</td>\n",
       "      <td>537.933679</td>\n",
       "    </tr>\n",
       "    <tr>\n",
       "      <th>min</th>\n",
       "      <td>0.000000</td>\n",
       "      <td>1.000000</td>\n",
       "      <td>1.000000</td>\n",
       "      <td>1.000000</td>\n",
       "      <td>0.000000</td>\n",
       "      <td>0.000000</td>\n",
       "    </tr>\n",
       "    <tr>\n",
       "      <th>25%</th>\n",
       "      <td>21057.250000</td>\n",
       "      <td>2.000000</td>\n",
       "      <td>1325.000000</td>\n",
       "      <td>22.000000</td>\n",
       "      <td>1.000000</td>\n",
       "      <td>1920.000000</td>\n",
       "    </tr>\n",
       "    <tr>\n",
       "      <th>50%</th>\n",
       "      <td>42168.500000</td>\n",
       "      <td>3.000000</td>\n",
       "      <td>3309.000000</td>\n",
       "      <td>50.000000</td>\n",
       "      <td>1.000000</td>\n",
       "      <td>1940.000000</td>\n",
       "    </tr>\n",
       "    <tr>\n",
       "      <th>75%</th>\n",
       "      <td>63433.750000</td>\n",
       "      <td>4.000000</td>\n",
       "      <td>6281.000000</td>\n",
       "      <td>1001.000000</td>\n",
       "      <td>2.000000</td>\n",
       "      <td>1965.000000</td>\n",
       "    </tr>\n",
       "    <tr>\n",
       "      <th>max</th>\n",
       "      <td>84546.000000</td>\n",
       "      <td>5.000000</td>\n",
       "      <td>16322.000000</td>\n",
       "      <td>9106.000000</td>\n",
       "      <td>2261.000000</td>\n",
       "      <td>2017.000000</td>\n",
       "    </tr>\n",
       "  </tbody>\n",
       "</table>\n",
       "</div>"
      ],
      "text/plain": [
       "                 id       borough         block           lot         units   \n",
       "count  67638.000000  67638.000000  67638.000000  67638.000000  67638.000000  \\\n",
       "mean   42214.906532      2.995461   4238.882640    377.266891      2.292291   \n",
       "std    24429.882151      1.290967   3570.366857    657.478952     19.526978   \n",
       "min        0.000000      1.000000      1.000000      1.000000      0.000000   \n",
       "25%    21057.250000      2.000000   1325.000000     22.000000      1.000000   \n",
       "50%    42168.500000      3.000000   3309.000000     50.000000      1.000000   \n",
       "75%    63433.750000      4.000000   6281.000000   1001.000000      2.000000   \n",
       "max    84546.000000      5.000000  16322.000000   9106.000000   2261.000000   \n",
       "\n",
       "         year_built  \n",
       "count  67638.000000  \n",
       "mean    1788.988512  \n",
       "std      537.933679  \n",
       "min        0.000000  \n",
       "25%     1920.000000  \n",
       "50%     1940.000000  \n",
       "75%     1965.000000  \n",
       "max     2017.000000  "
      ]
     },
     "execution_count": 81,
     "metadata": {},
     "output_type": "execute_result"
    }
   ],
   "source": [
    "df_homes.describe()"
   ]
  },
  {
   "cell_type": "code",
   "execution_count": 82,
   "metadata": {
    "colab": {
     "base_uri": "https://localhost:8080/",
     "height": 250
    },
    "id": "-4VmHZcUwjdW",
    "outputId": "c7645a80-048c-44ff-ded1-d9741e8b891e",
    "tags": []
   },
   "outputs": [
    {
     "data": {
      "text/html": [
       "<div>\n",
       "<style scoped>\n",
       "    .dataframe tbody tr th:only-of-type {\n",
       "        vertical-align: middle;\n",
       "    }\n",
       "\n",
       "    .dataframe tbody tr th {\n",
       "        vertical-align: top;\n",
       "    }\n",
       "\n",
       "    .dataframe thead th {\n",
       "        text-align: right;\n",
       "    }\n",
       "</style>\n",
       "<table border=\"1\" class=\"dataframe\">\n",
       "  <thead>\n",
       "    <tr style=\"text-align: right;\">\n",
       "      <th></th>\n",
       "      <th>id</th>\n",
       "      <th>borough</th>\n",
       "      <th>neighborhood</th>\n",
       "      <th>block</th>\n",
       "      <th>lot</th>\n",
       "      <th>easement</th>\n",
       "      <th>units</th>\n",
       "      <th>land_sqft</th>\n",
       "      <th>gross_sqft</th>\n",
       "      <th>year_built</th>\n",
       "      <th>sale_price</th>\n",
       "    </tr>\n",
       "  </thead>\n",
       "  <tbody>\n",
       "    <tr>\n",
       "      <th>0</th>\n",
       "      <td>0</td>\n",
       "      <td>1</td>\n",
       "      <td>ALPHABET CITY</td>\n",
       "      <td>392</td>\n",
       "      <td>6</td>\n",
       "      <td></td>\n",
       "      <td>5</td>\n",
       "      <td>1633</td>\n",
       "      <td>6440</td>\n",
       "      <td>1900</td>\n",
       "      <td>6625000</td>\n",
       "    </tr>\n",
       "    <tr>\n",
       "      <th>1</th>\n",
       "      <td>1</td>\n",
       "      <td>1</td>\n",
       "      <td>ALPHABET CITY</td>\n",
       "      <td>399</td>\n",
       "      <td>26</td>\n",
       "      <td></td>\n",
       "      <td>31</td>\n",
       "      <td>4616</td>\n",
       "      <td>18690</td>\n",
       "      <td>1900</td>\n",
       "      <td>-</td>\n",
       "    </tr>\n",
       "    <tr>\n",
       "      <th>2</th>\n",
       "      <td>2</td>\n",
       "      <td>1</td>\n",
       "      <td>ALPHABET CITY</td>\n",
       "      <td>399</td>\n",
       "      <td>39</td>\n",
       "      <td></td>\n",
       "      <td>17</td>\n",
       "      <td>2212</td>\n",
       "      <td>7803</td>\n",
       "      <td>1900</td>\n",
       "      <td>-</td>\n",
       "    </tr>\n",
       "    <tr>\n",
       "      <th>3</th>\n",
       "      <td>4</td>\n",
       "      <td>1</td>\n",
       "      <td>ALPHABET CITY</td>\n",
       "      <td>404</td>\n",
       "      <td>55</td>\n",
       "      <td></td>\n",
       "      <td>6</td>\n",
       "      <td>2369</td>\n",
       "      <td>4615</td>\n",
       "      <td>1900</td>\n",
       "      <td>8000000</td>\n",
       "    </tr>\n",
       "    <tr>\n",
       "      <th>4</th>\n",
       "      <td>5</td>\n",
       "      <td>1</td>\n",
       "      <td>ALPHABET CITY</td>\n",
       "      <td>405</td>\n",
       "      <td>16</td>\n",
       "      <td></td>\n",
       "      <td>20</td>\n",
       "      <td>2581</td>\n",
       "      <td>9730</td>\n",
       "      <td>1900</td>\n",
       "      <td>-</td>\n",
       "    </tr>\n",
       "  </tbody>\n",
       "</table>\n",
       "</div>"
      ],
      "text/plain": [
       "   id  borough   neighborhood  block  lot easement  units land_sqft   \n",
       "0   0        1  ALPHABET CITY    392    6               5      1633  \\\n",
       "1   1        1  ALPHABET CITY    399   26              31      4616   \n",
       "2   2        1  ALPHABET CITY    399   39              17      2212   \n",
       "3   4        1  ALPHABET CITY    404   55               6      2369   \n",
       "4   5        1  ALPHABET CITY    405   16              20      2581   \n",
       "\n",
       "  gross_sqft  year_built sale_price  \n",
       "0       6440        1900    6625000  \n",
       "1      18690        1900        -    \n",
       "2       7803        1900        -    \n",
       "3       4615        1900    8000000  \n",
       "4       9730        1900        -    "
      ]
     },
     "execution_count": 82,
     "metadata": {},
     "output_type": "execute_result"
    }
   ],
   "source": [
    "# Preview the first few records.\n",
    "df_homes.head()"
   ]
  },
  {
   "cell_type": "code",
   "execution_count": 83,
   "metadata": {
    "colab": {
     "base_uri": "https://localhost:8080/",
     "height": 522
    },
    "id": "BhHMZF5j74_1",
    "outputId": "541d3c69-117a-4e45-b5b7-e06d3ce891b9",
    "tags": []
   },
   "outputs": [
    {
     "data": {
      "text/html": [
       "<div>\n",
       "<style scoped>\n",
       "    .dataframe tbody tr th:only-of-type {\n",
       "        vertical-align: middle;\n",
       "    }\n",
       "\n",
       "    .dataframe tbody tr th {\n",
       "        vertical-align: top;\n",
       "    }\n",
       "\n",
       "    .dataframe thead th {\n",
       "        text-align: right;\n",
       "    }\n",
       "</style>\n",
       "<table border=\"1\" class=\"dataframe\">\n",
       "  <thead>\n",
       "    <tr style=\"text-align: right;\">\n",
       "      <th></th>\n",
       "      <th>id</th>\n",
       "      <th>borough</th>\n",
       "      <th>neighborhood</th>\n",
       "      <th>block</th>\n",
       "      <th>lot</th>\n",
       "      <th>easement</th>\n",
       "      <th>units</th>\n",
       "      <th>land_sqft</th>\n",
       "      <th>gross_sqft</th>\n",
       "      <th>year_built</th>\n",
       "      <th>sale_price</th>\n",
       "    </tr>\n",
       "  </thead>\n",
       "  <tbody>\n",
       "    <tr>\n",
       "      <th>51859</th>\n",
       "      <td>64831</td>\n",
       "      <td>4</td>\n",
       "      <td>JAMAICA</td>\n",
       "      <td>9827</td>\n",
       "      <td>39</td>\n",
       "      <td></td>\n",
       "      <td>2261</td>\n",
       "      <td>2940</td>\n",
       "      <td>4522</td>\n",
       "      <td>1920</td>\n",
       "      <td>315000</td>\n",
       "    </tr>\n",
       "    <tr>\n",
       "      <th>49191</th>\n",
       "      <td>61461</td>\n",
       "      <td>4</td>\n",
       "      <td>GLEN OAKS</td>\n",
       "      <td>8489</td>\n",
       "      <td>1</td>\n",
       "      <td></td>\n",
       "      <td>1866</td>\n",
       "      <td>4228300</td>\n",
       "      <td>3750565</td>\n",
       "      <td>1972</td>\n",
       "      <td>-</td>\n",
       "    </tr>\n",
       "    <tr>\n",
       "      <th>49190</th>\n",
       "      <td>61460</td>\n",
       "      <td>4</td>\n",
       "      <td>GLEN OAKS</td>\n",
       "      <td>8489</td>\n",
       "      <td>1</td>\n",
       "      <td></td>\n",
       "      <td>1866</td>\n",
       "      <td>4228300</td>\n",
       "      <td>3750565</td>\n",
       "      <td>1972</td>\n",
       "      <td>525000</td>\n",
       "    </tr>\n",
       "    <tr>\n",
       "      <th>19331</th>\n",
       "      <td>24035</td>\n",
       "      <td>2</td>\n",
       "      <td>SOUNDVIEW</td>\n",
       "      <td>3600</td>\n",
       "      <td>4</td>\n",
       "      <td></td>\n",
       "      <td>955</td>\n",
       "      <td>679000</td>\n",
       "      <td>1021752</td>\n",
       "      <td>1977</td>\n",
       "      <td>70936348</td>\n",
       "    </tr>\n",
       "    <tr>\n",
       "      <th>5111</th>\n",
       "      <td>6332</td>\n",
       "      <td>1</td>\n",
       "      <td>KIPS BAY</td>\n",
       "      <td>934</td>\n",
       "      <td>1</td>\n",
       "      <td></td>\n",
       "      <td>902</td>\n",
       "      <td>141836</td>\n",
       "      <td>829024</td>\n",
       "      <td>1975</td>\n",
       "      <td>620000000</td>\n",
       "    </tr>\n",
       "    <tr>\n",
       "      <th>...</th>\n",
       "      <td>...</td>\n",
       "      <td>...</td>\n",
       "      <td>...</td>\n",
       "      <td>...</td>\n",
       "      <td>...</td>\n",
       "      <td>...</td>\n",
       "      <td>...</td>\n",
       "      <td>...</td>\n",
       "      <td>...</td>\n",
       "      <td>...</td>\n",
       "      <td>...</td>\n",
       "    </tr>\n",
       "    <tr>\n",
       "      <th>18647</th>\n",
       "      <td>23202</td>\n",
       "      <td>2</td>\n",
       "      <td>RIVERDALE</td>\n",
       "      <td>5953</td>\n",
       "      <td>230</td>\n",
       "      <td></td>\n",
       "      <td>0</td>\n",
       "      <td>0</td>\n",
       "      <td>0</td>\n",
       "      <td>1961</td>\n",
       "      <td>385000</td>\n",
       "    </tr>\n",
       "    <tr>\n",
       "      <th>18648</th>\n",
       "      <td>23203</td>\n",
       "      <td>2</td>\n",
       "      <td>RIVERDALE</td>\n",
       "      <td>5953</td>\n",
       "      <td>230</td>\n",
       "      <td></td>\n",
       "      <td>0</td>\n",
       "      <td>0</td>\n",
       "      <td>0</td>\n",
       "      <td>1961</td>\n",
       "      <td>229000</td>\n",
       "    </tr>\n",
       "    <tr>\n",
       "      <th>18649</th>\n",
       "      <td>23204</td>\n",
       "      <td>2</td>\n",
       "      <td>RIVERDALE</td>\n",
       "      <td>5953</td>\n",
       "      <td>230</td>\n",
       "      <td></td>\n",
       "      <td>0</td>\n",
       "      <td>0</td>\n",
       "      <td>0</td>\n",
       "      <td>1961</td>\n",
       "      <td>255000</td>\n",
       "    </tr>\n",
       "    <tr>\n",
       "      <th>18650</th>\n",
       "      <td>23205</td>\n",
       "      <td>2</td>\n",
       "      <td>RIVERDALE</td>\n",
       "      <td>5953</td>\n",
       "      <td>230</td>\n",
       "      <td></td>\n",
       "      <td>0</td>\n",
       "      <td>0</td>\n",
       "      <td>0</td>\n",
       "      <td>1961</td>\n",
       "      <td>0</td>\n",
       "    </tr>\n",
       "    <tr>\n",
       "      <th>2890</th>\n",
       "      <td>3611</td>\n",
       "      <td>1</td>\n",
       "      <td>GREENWICH VILLAGE-CENTRAL</td>\n",
       "      <td>532</td>\n",
       "      <td>20</td>\n",
       "      <td></td>\n",
       "      <td>0</td>\n",
       "      <td>-</td>\n",
       "      <td>-</td>\n",
       "      <td>1930</td>\n",
       "      <td>937000</td>\n",
       "    </tr>\n",
       "  </tbody>\n",
       "</table>\n",
       "<p>67638 rows × 11 columns</p>\n",
       "</div>"
      ],
      "text/plain": [
       "          id  borough               neighborhood  block  lot easement  units   \n",
       "51859  64831        4                    JAMAICA   9827   39            2261  \\\n",
       "49191  61461        4                  GLEN OAKS   8489    1            1866   \n",
       "49190  61460        4                  GLEN OAKS   8489    1            1866   \n",
       "19331  24035        2                  SOUNDVIEW   3600    4             955   \n",
       "5111    6332        1                   KIPS BAY    934    1             902   \n",
       "...      ...      ...                        ...    ...  ...      ...    ...   \n",
       "18647  23202        2                  RIVERDALE   5953  230               0   \n",
       "18648  23203        2                  RIVERDALE   5953  230               0   \n",
       "18649  23204        2                  RIVERDALE   5953  230               0   \n",
       "18650  23205        2                  RIVERDALE   5953  230               0   \n",
       "2890    3611        1  GREENWICH VILLAGE-CENTRAL    532   20               0   \n",
       "\n",
       "      land_sqft gross_sqft  year_built sale_price  \n",
       "51859      2940       4522        1920     315000  \n",
       "49191   4228300    3750565        1972        -    \n",
       "49190   4228300    3750565        1972     525000  \n",
       "19331    679000    1021752        1977   70936348  \n",
       "5111     141836     829024        1975  620000000  \n",
       "...         ...        ...         ...        ...  \n",
       "18647         0          0        1961     385000  \n",
       "18648         0          0        1961     229000  \n",
       "18649         0          0        1961     255000  \n",
       "18650         0          0        1961          0  \n",
       "2890        -          -          1930     937000  \n",
       "\n",
       "[67638 rows x 11 columns]"
      ]
     },
     "execution_count": 83,
     "metadata": {},
     "output_type": "execute_result"
    }
   ],
   "source": [
    "# Sort values in the data frame.\n",
    "df_homes.sort_values('units', ascending=False)"
   ]
  },
  {
   "cell_type": "markdown",
   "metadata": {},
   "source": [
    "# Extracting subsets\n",
    "- `iloc[]`. \n",
    "    - Try with single values and with ranges (`[n:m]`).\n",
    "    - Try in two dimensions"
   ]
  },
  {
   "cell_type": "code",
   "execution_count": 84,
   "metadata": {
    "tags": []
   },
   "outputs": [
    {
     "data": {
      "text/plain": [
       "id                          0\n",
       "borough                     1\n",
       "neighborhood    ALPHABET CITY\n",
       "block                     392\n",
       "lot                         6\n",
       "easement                     \n",
       "units                       5\n",
       "land_sqft                1633\n",
       "gross_sqft               6440\n",
       "year_built               1900\n",
       "sale_price            6625000\n",
       "Name: 0, dtype: object"
      ]
     },
     "execution_count": 84,
     "metadata": {},
     "output_type": "execute_result"
    }
   ],
   "source": [
    "df_homes.iloc[0]"
   ]
  },
  {
   "cell_type": "code",
   "execution_count": 85,
   "metadata": {
    "colab": {
     "base_uri": "https://localhost:8080/",
     "height": 250
    },
    "id": "iumgwfG7UO1b",
    "outputId": "f5ebe67b-7e4e-47ff-c24d-3bb118f4daa6",
    "tags": []
   },
   "outputs": [
    {
     "data": {
      "text/html": [
       "<div>\n",
       "<style scoped>\n",
       "    .dataframe tbody tr th:only-of-type {\n",
       "        vertical-align: middle;\n",
       "    }\n",
       "\n",
       "    .dataframe tbody tr th {\n",
       "        vertical-align: top;\n",
       "    }\n",
       "\n",
       "    .dataframe thead th {\n",
       "        text-align: right;\n",
       "    }\n",
       "</style>\n",
       "<table border=\"1\" class=\"dataframe\">\n",
       "  <thead>\n",
       "    <tr style=\"text-align: right;\">\n",
       "      <th></th>\n",
       "      <th>id</th>\n",
       "      <th>borough</th>\n",
       "      <th>neighborhood</th>\n",
       "      <th>block</th>\n",
       "      <th>lot</th>\n",
       "      <th>easement</th>\n",
       "      <th>units</th>\n",
       "      <th>land_sqft</th>\n",
       "      <th>gross_sqft</th>\n",
       "      <th>year_built</th>\n",
       "      <th>sale_price</th>\n",
       "    </tr>\n",
       "  </thead>\n",
       "  <tbody>\n",
       "    <tr>\n",
       "      <th>5</th>\n",
       "      <td>6</td>\n",
       "      <td>1</td>\n",
       "      <td>ALPHABET CITY</td>\n",
       "      <td>406</td>\n",
       "      <td>32</td>\n",
       "      <td></td>\n",
       "      <td>8</td>\n",
       "      <td>1750</td>\n",
       "      <td>4226</td>\n",
       "      <td>1920</td>\n",
       "      <td>3192840</td>\n",
       "    </tr>\n",
       "    <tr>\n",
       "      <th>6</th>\n",
       "      <td>7</td>\n",
       "      <td>1</td>\n",
       "      <td>ALPHABET CITY</td>\n",
       "      <td>407</td>\n",
       "      <td>18</td>\n",
       "      <td></td>\n",
       "      <td>46</td>\n",
       "      <td>5163</td>\n",
       "      <td>21007</td>\n",
       "      <td>1900</td>\n",
       "      <td>-</td>\n",
       "    </tr>\n",
       "    <tr>\n",
       "      <th>7</th>\n",
       "      <td>9</td>\n",
       "      <td>1</td>\n",
       "      <td>ALPHABET CITY</td>\n",
       "      <td>387</td>\n",
       "      <td>153</td>\n",
       "      <td></td>\n",
       "      <td>24</td>\n",
       "      <td>4489</td>\n",
       "      <td>18523</td>\n",
       "      <td>1920</td>\n",
       "      <td>16232000</td>\n",
       "    </tr>\n",
       "    <tr>\n",
       "      <th>8</th>\n",
       "      <td>10</td>\n",
       "      <td>1</td>\n",
       "      <td>ALPHABET CITY</td>\n",
       "      <td>394</td>\n",
       "      <td>44</td>\n",
       "      <td></td>\n",
       "      <td>34</td>\n",
       "      <td>4295</td>\n",
       "      <td>21328</td>\n",
       "      <td>1910</td>\n",
       "      <td>-</td>\n",
       "    </tr>\n",
       "    <tr>\n",
       "      <th>9</th>\n",
       "      <td>12</td>\n",
       "      <td>1</td>\n",
       "      <td>ALPHABET CITY</td>\n",
       "      <td>373</td>\n",
       "      <td>40</td>\n",
       "      <td></td>\n",
       "      <td>0</td>\n",
       "      <td>-</td>\n",
       "      <td>-</td>\n",
       "      <td>1920</td>\n",
       "      <td>1</td>\n",
       "    </tr>\n",
       "  </tbody>\n",
       "</table>\n",
       "</div>"
      ],
      "text/plain": [
       "   id  borough   neighborhood  block  lot easement  units land_sqft   \n",
       "5   6        1  ALPHABET CITY    406   32               8      1750  \\\n",
       "6   7        1  ALPHABET CITY    407   18              46      5163   \n",
       "7   9        1  ALPHABET CITY    387  153              24      4489   \n",
       "8  10        1  ALPHABET CITY    394   44              34      4295   \n",
       "9  12        1  ALPHABET CITY    373   40               0       -     \n",
       "\n",
       "  gross_sqft  year_built sale_price  \n",
       "5       4226        1920    3192840  \n",
       "6      21007        1900        -    \n",
       "7      18523        1920   16232000  \n",
       "8      21328        1910        -    \n",
       "9        -          1920          1  "
      ]
     },
     "execution_count": 85,
     "metadata": {},
     "output_type": "execute_result"
    }
   ],
   "source": [
    "# Select a specific set of rows by position.\n",
    "df_homes.iloc[5:10]"
   ]
  },
  {
   "cell_type": "code",
   "execution_count": 86,
   "metadata": {
    "colab": {
     "base_uri": "https://localhost:8080/",
     "height": 206
    },
    "id": "k94V0DjFYvTF",
    "outputId": "feac007b-80ae-4afa-8f14-4ce2969a722c",
    "tags": []
   },
   "outputs": [
    {
     "data": {
      "text/html": [
       "<div>\n",
       "<style scoped>\n",
       "    .dataframe tbody tr th:only-of-type {\n",
       "        vertical-align: middle;\n",
       "    }\n",
       "\n",
       "    .dataframe tbody tr th {\n",
       "        vertical-align: top;\n",
       "    }\n",
       "\n",
       "    .dataframe thead th {\n",
       "        text-align: right;\n",
       "    }\n",
       "</style>\n",
       "<table border=\"1\" class=\"dataframe\">\n",
       "  <thead>\n",
       "    <tr style=\"text-align: right;\">\n",
       "      <th></th>\n",
       "      <th>neighborhood</th>\n",
       "      <th>block</th>\n",
       "      <th>lot</th>\n",
       "    </tr>\n",
       "  </thead>\n",
       "  <tbody>\n",
       "    <tr>\n",
       "      <th>5</th>\n",
       "      <td>ALPHABET CITY</td>\n",
       "      <td>406</td>\n",
       "      <td>32</td>\n",
       "    </tr>\n",
       "    <tr>\n",
       "      <th>6</th>\n",
       "      <td>ALPHABET CITY</td>\n",
       "      <td>407</td>\n",
       "      <td>18</td>\n",
       "    </tr>\n",
       "    <tr>\n",
       "      <th>7</th>\n",
       "      <td>ALPHABET CITY</td>\n",
       "      <td>387</td>\n",
       "      <td>153</td>\n",
       "    </tr>\n",
       "    <tr>\n",
       "      <th>8</th>\n",
       "      <td>ALPHABET CITY</td>\n",
       "      <td>394</td>\n",
       "      <td>44</td>\n",
       "    </tr>\n",
       "    <tr>\n",
       "      <th>9</th>\n",
       "      <td>ALPHABET CITY</td>\n",
       "      <td>373</td>\n",
       "      <td>40</td>\n",
       "    </tr>\n",
       "  </tbody>\n",
       "</table>\n",
       "</div>"
      ],
      "text/plain": [
       "    neighborhood  block  lot\n",
       "5  ALPHABET CITY    406   32\n",
       "6  ALPHABET CITY    407   18\n",
       "7  ALPHABET CITY    387  153\n",
       "8  ALPHABET CITY    394   44\n",
       "9  ALPHABET CITY    373   40"
      ]
     },
     "execution_count": 86,
     "metadata": {},
     "output_type": "execute_result"
    }
   ],
   "source": [
    "# Select a specific set of rows and columns by position.\n",
    "df_homes.iloc[5:10, 2:5]"
   ]
  },
  {
   "cell_type": "markdown",
   "metadata": {
    "tags": []
   },
   "source": [
    "## Filter data\n",
    "Select rows that meet a certain criteria.\n",
    "\n",
    "- find all houses with more than 800 units "
   ]
  },
  {
   "cell_type": "code",
   "execution_count": 88,
   "metadata": {
    "colab": {
     "base_uri": "https://localhost:8080/",
     "height": 319
    },
    "id": "PUkxRM19UHzM",
    "outputId": "2947f2f7-eaa9-4782-b4e2-24a60ba8a3be",
    "tags": []
   },
   "outputs": [
    {
     "data": {
      "text/html": [
       "<div>\n",
       "<style scoped>\n",
       "    .dataframe tbody tr th:only-of-type {\n",
       "        vertical-align: middle;\n",
       "    }\n",
       "\n",
       "    .dataframe tbody tr th {\n",
       "        vertical-align: top;\n",
       "    }\n",
       "\n",
       "    .dataframe thead th {\n",
       "        text-align: right;\n",
       "    }\n",
       "</style>\n",
       "<table border=\"1\" class=\"dataframe\">\n",
       "  <thead>\n",
       "    <tr style=\"text-align: right;\">\n",
       "      <th></th>\n",
       "      <th>id</th>\n",
       "      <th>borough</th>\n",
       "      <th>neighborhood</th>\n",
       "      <th>block</th>\n",
       "      <th>lot</th>\n",
       "      <th>easement</th>\n",
       "      <th>units</th>\n",
       "      <th>land_sqft</th>\n",
       "      <th>gross_sqft</th>\n",
       "      <th>year_built</th>\n",
       "      <th>sale_price</th>\n",
       "    </tr>\n",
       "  </thead>\n",
       "  <tbody>\n",
       "    <tr>\n",
       "      <th>5111</th>\n",
       "      <td>6332</td>\n",
       "      <td>1</td>\n",
       "      <td>KIPS BAY</td>\n",
       "      <td>934</td>\n",
       "      <td>1</td>\n",
       "      <td></td>\n",
       "      <td>902</td>\n",
       "      <td>141836</td>\n",
       "      <td>829024</td>\n",
       "      <td>1975</td>\n",
       "      <td>620000000</td>\n",
       "    </tr>\n",
       "    <tr>\n",
       "      <th>19331</th>\n",
       "      <td>24035</td>\n",
       "      <td>2</td>\n",
       "      <td>SOUNDVIEW</td>\n",
       "      <td>3600</td>\n",
       "      <td>4</td>\n",
       "      <td></td>\n",
       "      <td>955</td>\n",
       "      <td>679000</td>\n",
       "      <td>1021752</td>\n",
       "      <td>1977</td>\n",
       "      <td>70936348</td>\n",
       "    </tr>\n",
       "    <tr>\n",
       "      <th>27725</th>\n",
       "      <td>34521</td>\n",
       "      <td>3</td>\n",
       "      <td>CROWN HEIGHTS</td>\n",
       "      <td>1156</td>\n",
       "      <td>70</td>\n",
       "      <td></td>\n",
       "      <td>889</td>\n",
       "      <td>24573</td>\n",
       "      <td>49500</td>\n",
       "      <td>1930</td>\n",
       "      <td>0</td>\n",
       "    </tr>\n",
       "    <tr>\n",
       "      <th>49190</th>\n",
       "      <td>61460</td>\n",
       "      <td>4</td>\n",
       "      <td>GLEN OAKS</td>\n",
       "      <td>8489</td>\n",
       "      <td>1</td>\n",
       "      <td></td>\n",
       "      <td>1866</td>\n",
       "      <td>4228300</td>\n",
       "      <td>3750565</td>\n",
       "      <td>1972</td>\n",
       "      <td>525000</td>\n",
       "    </tr>\n",
       "    <tr>\n",
       "      <th>49191</th>\n",
       "      <td>61461</td>\n",
       "      <td>4</td>\n",
       "      <td>GLEN OAKS</td>\n",
       "      <td>8489</td>\n",
       "      <td>1</td>\n",
       "      <td></td>\n",
       "      <td>1866</td>\n",
       "      <td>4228300</td>\n",
       "      <td>3750565</td>\n",
       "      <td>1972</td>\n",
       "      <td>-</td>\n",
       "    </tr>\n",
       "    <tr>\n",
       "      <th>51859</th>\n",
       "      <td>64831</td>\n",
       "      <td>4</td>\n",
       "      <td>JAMAICA</td>\n",
       "      <td>9827</td>\n",
       "      <td>39</td>\n",
       "      <td></td>\n",
       "      <td>2261</td>\n",
       "      <td>2940</td>\n",
       "      <td>4522</td>\n",
       "      <td>1920</td>\n",
       "      <td>315000</td>\n",
       "    </tr>\n",
       "  </tbody>\n",
       "</table>\n",
       "</div>"
      ],
      "text/plain": [
       "          id  borough   neighborhood  block  lot easement  units land_sqft   \n",
       "5111    6332        1       KIPS BAY    934    1             902    141836  \\\n",
       "19331  24035        2      SOUNDVIEW   3600    4             955    679000   \n",
       "27725  34521        3  CROWN HEIGHTS   1156   70             889     24573   \n",
       "49190  61460        4      GLEN OAKS   8489    1            1866   4228300   \n",
       "49191  61461        4      GLEN OAKS   8489    1            1866   4228300   \n",
       "51859  64831        4        JAMAICA   9827   39            2261      2940   \n",
       "\n",
       "      gross_sqft  year_built sale_price  \n",
       "5111      829024        1975  620000000  \n",
       "19331    1021752        1977   70936348  \n",
       "27725      49500        1930          0  \n",
       "49190    3750565        1972     525000  \n",
       "49191    3750565        1972        -    \n",
       "51859       4522        1920     315000  "
      ]
     },
     "execution_count": 88,
     "metadata": {},
     "output_type": "execute_result"
    }
   ],
   "source": [
    "df_homes[df_homes.units > 800]"
   ]
  },
  {
   "cell_type": "markdown",
   "metadata": {},
   "source": [
    "# Select columns\n",
    "- columns are \"Series\"\n",
    "- Select a single column\n",
    "- Select a set of columns"
   ]
  },
  {
   "cell_type": "code",
   "execution_count": 89,
   "metadata": {
    "colab": {
     "base_uri": "https://localhost:8080/"
    },
    "id": "yLz2RE-TN5kh",
    "outputId": "72b273c4-7635-463e-b78b-9596e81daf36",
    "tags": []
   },
   "outputs": [
    {
     "data": {
      "text/plain": [
       "0         6625000\n",
       "1             -  \n",
       "2             -  \n",
       "3         8000000\n",
       "4             -  \n",
       "           ...   \n",
       "67633      648000\n",
       "67634         -  \n",
       "67635      450000\n",
       "67636      460000\n",
       "67637    11693337\n",
       "Name: sale_price, Length: 67638, dtype: object"
      ]
     },
     "execution_count": 89,
     "metadata": {},
     "output_type": "execute_result"
    }
   ],
   "source": [
    "# Select a column in the dataset using its name.\n",
    "df_homes['sale_price']"
   ]
  },
  {
   "cell_type": "code",
   "execution_count": 90,
   "metadata": {
    "colab": {
     "base_uri": "https://localhost:8080/",
     "height": 424
    },
    "id": "4Q1eV8RqUXFl",
    "outputId": "b93490cf-9930-417c-9532-45b152c02a9b",
    "tags": []
   },
   "outputs": [
    {
     "data": {
      "text/html": [
       "<div>\n",
       "<style scoped>\n",
       "    .dataframe tbody tr th:only-of-type {\n",
       "        vertical-align: middle;\n",
       "    }\n",
       "\n",
       "    .dataframe tbody tr th {\n",
       "        vertical-align: top;\n",
       "    }\n",
       "\n",
       "    .dataframe thead th {\n",
       "        text-align: right;\n",
       "    }\n",
       "</style>\n",
       "<table border=\"1\" class=\"dataframe\">\n",
       "  <thead>\n",
       "    <tr style=\"text-align: right;\">\n",
       "      <th></th>\n",
       "      <th>block</th>\n",
       "      <th>lot</th>\n",
       "      <th>sale_price</th>\n",
       "    </tr>\n",
       "  </thead>\n",
       "  <tbody>\n",
       "    <tr>\n",
       "      <th>0</th>\n",
       "      <td>392</td>\n",
       "      <td>6</td>\n",
       "      <td>6625000</td>\n",
       "    </tr>\n",
       "    <tr>\n",
       "      <th>1</th>\n",
       "      <td>399</td>\n",
       "      <td>26</td>\n",
       "      <td>-</td>\n",
       "    </tr>\n",
       "    <tr>\n",
       "      <th>2</th>\n",
       "      <td>399</td>\n",
       "      <td>39</td>\n",
       "      <td>-</td>\n",
       "    </tr>\n",
       "    <tr>\n",
       "      <th>3</th>\n",
       "      <td>404</td>\n",
       "      <td>55</td>\n",
       "      <td>8000000</td>\n",
       "    </tr>\n",
       "    <tr>\n",
       "      <th>4</th>\n",
       "      <td>405</td>\n",
       "      <td>16</td>\n",
       "      <td>-</td>\n",
       "    </tr>\n",
       "    <tr>\n",
       "      <th>...</th>\n",
       "      <td>...</td>\n",
       "      <td>...</td>\n",
       "      <td>...</td>\n",
       "    </tr>\n",
       "    <tr>\n",
       "      <th>67633</th>\n",
       "      <td>7317</td>\n",
       "      <td>126</td>\n",
       "      <td>648000</td>\n",
       "    </tr>\n",
       "    <tr>\n",
       "      <th>67634</th>\n",
       "      <td>7339</td>\n",
       "      <td>41</td>\n",
       "      <td>-</td>\n",
       "    </tr>\n",
       "    <tr>\n",
       "      <th>67635</th>\n",
       "      <td>7349</td>\n",
       "      <td>34</td>\n",
       "      <td>450000</td>\n",
       "    </tr>\n",
       "    <tr>\n",
       "      <th>67636</th>\n",
       "      <td>7351</td>\n",
       "      <td>60</td>\n",
       "      <td>460000</td>\n",
       "    </tr>\n",
       "    <tr>\n",
       "      <th>67637</th>\n",
       "      <td>7100</td>\n",
       "      <td>28</td>\n",
       "      <td>11693337</td>\n",
       "    </tr>\n",
       "  </tbody>\n",
       "</table>\n",
       "<p>67638 rows × 3 columns</p>\n",
       "</div>"
      ],
      "text/plain": [
       "       block  lot sale_price\n",
       "0        392    6    6625000\n",
       "1        399   26        -  \n",
       "2        399   39        -  \n",
       "3        404   55    8000000\n",
       "4        405   16        -  \n",
       "...      ...  ...        ...\n",
       "67633   7317  126     648000\n",
       "67634   7339   41        -  \n",
       "67635   7349   34     450000\n",
       "67636   7351   60     460000\n",
       "67637   7100   28   11693337\n",
       "\n",
       "[67638 rows x 3 columns]"
      ]
     },
     "execution_count": 90,
     "metadata": {},
     "output_type": "execute_result"
    }
   ],
   "source": [
    "# Select a subset of columns using their names.\n",
    "df_homes[['block', 'lot', 'sale_price']]"
   ]
  },
  {
   "cell_type": "markdown",
   "metadata": {},
   "source": [
    "## Remove columns\n",
    "We won't use the `id` and `easmenet` column. Let's drop them\n",
    "- use `drop(columns=['id', 'easement'])`"
   ]
  },
  {
   "cell_type": "code",
   "execution_count": 91,
   "metadata": {
    "colab": {
     "base_uri": "https://localhost:8080/"
    },
    "id": "_Scw2MBK4ZLK",
    "outputId": "a22d2f56-2ffb-4596-b7f6-a5eedee70d37",
    "tags": []
   },
   "outputs": [
    {
     "data": {
      "text/plain": [
       "(67638, 9)"
      ]
     },
     "execution_count": 91,
     "metadata": {},
     "output_type": "execute_result"
    }
   ],
   "source": [
    "# Drop unnecessary columns.\n",
    "df_homes = df_homes.drop(columns=['id', 'easement'])\n",
    "df_homes.shape"
   ]
  },
  {
   "cell_type": "markdown",
   "metadata": {
    "tags": []
   },
   "source": [
    "# Rename a column\n",
    "- `df_homes.rename(columns = {'borough':'district'})`"
   ]
  },
  {
   "cell_type": "code",
   "execution_count": 92,
   "metadata": {
    "colab": {
     "base_uri": "https://localhost:8080/"
    },
    "id": "yzB_AgCrQgkS",
    "outputId": "bbe14b37-8014-440a-cbee-b85e2deaa7a5",
    "tags": []
   },
   "outputs": [
    {
     "name": "stdout",
     "output_type": "stream",
     "text": [
      "<class 'pandas.core.frame.DataFrame'>\n",
      "RangeIndex: 67638 entries, 0 to 67637\n",
      "Data columns (total 9 columns):\n",
      " #   Column        Non-Null Count  Dtype \n",
      "---  ------        --------------  ----- \n",
      " 0   district      67638 non-null  int64 \n",
      " 1   neighborhood  67638 non-null  object\n",
      " 2   block         67638 non-null  int64 \n",
      " 3   lot           67638 non-null  int64 \n",
      " 4   units         67638 non-null  int64 \n",
      " 5   land_sqft     67638 non-null  object\n",
      " 6   gross_sqft    67638 non-null  object\n",
      " 7   year_built    67638 non-null  int64 \n",
      " 8   sale_price    67638 non-null  object\n",
      "dtypes: int64(5), object(4)\n",
      "memory usage: 4.6+ MB\n"
     ]
    }
   ],
   "source": [
    "# Rename a column.\n",
    "df_homes = df_homes.rename(columns = {'borough':'district'})\n",
    "df_homes.info()"
   ]
  },
  {
   "cell_type": "markdown",
   "metadata": {},
   "source": [
    "# Convert data types\n",
    "- check `df_homes.info()`. Note that the `land_sqft` and the `sale_price` are not numeric values. This is because they have hardcoded nodata values which `read_csv()` did not know how to deal with. Let's convert those columns to numeric values\n",
    "- `df_homes['land_sqft'] = pd.to_numeric(df_homes['land_sqft'], errors='coerce')`\n",
    "- `df_homes['sale_price'] = pd.to_numeric(df_homes['sale_price'], errors='coerce')`\n",
    "- check `df_homes.info()` again"
   ]
  },
  {
   "cell_type": "code",
   "execution_count": 93,
   "metadata": {
    "tags": []
   },
   "outputs": [
    {
     "name": "stdout",
     "output_type": "stream",
     "text": [
      "<class 'pandas.core.frame.DataFrame'>\n",
      "RangeIndex: 67638 entries, 0 to 67637\n",
      "Data columns (total 9 columns):\n",
      " #   Column        Non-Null Count  Dtype \n",
      "---  ------        --------------  ----- \n",
      " 0   district      67638 non-null  int64 \n",
      " 1   neighborhood  67638 non-null  object\n",
      " 2   block         67638 non-null  int64 \n",
      " 3   lot           67638 non-null  int64 \n",
      " 4   units         67638 non-null  int64 \n",
      " 5   land_sqft     67638 non-null  object\n",
      " 6   gross_sqft    67638 non-null  object\n",
      " 7   year_built    67638 non-null  int64 \n",
      " 8   sale_price    67638 non-null  object\n",
      "dtypes: int64(5), object(4)\n",
      "memory usage: 4.6+ MB\n"
     ]
    }
   ],
   "source": [
    "df_homes.info()"
   ]
  },
  {
   "cell_type": "code",
   "execution_count": 105,
   "metadata": {
    "colab": {
     "base_uri": "https://localhost:8080/"
    },
    "id": "hzKpB6lUE05X",
    "outputId": "7f1b3b71-eefc-4d45-a6de-370a25d9b9e6",
    "tags": []
   },
   "outputs": [
    {
     "name": "stdout",
     "output_type": "stream",
     "text": [
      "<class 'pandas.core.frame.DataFrame'>\n",
      "Index: 27775 entries, 0 to 67636\n",
      "Data columns (total 10 columns):\n",
      " #   Column        Non-Null Count  Dtype  \n",
      "---  ------        --------------  -----  \n",
      " 0   district      27775 non-null  int64  \n",
      " 1   neighborhood  27775 non-null  object \n",
      " 2   block         27775 non-null  int64  \n",
      " 3   lot           27775 non-null  int64  \n",
      " 4   units         27775 non-null  int64  \n",
      " 5   land_sqft     27775 non-null  int64  \n",
      " 6   gross_sqft    27775 non-null  float64\n",
      " 7   year_built    27775 non-null  int64  \n",
      " 8   sale_price    27775 non-null  float64\n",
      " 9   building_age  27775 non-null  int64  \n",
      "dtypes: float64(2), int64(7), object(1)\n",
      "memory usage: 2.3+ MB\n"
     ]
    }
   ],
   "source": [
    "# Convert selected columns into the appropriate data types.\n",
    "df_homes['gross_sqft'] = pd.to_numeric(df_homes['gross_sqft'], errors='coerce')\n",
    "df_homes['land_sqft'] = pd.to_numeric(df_homes['land_sqft'], errors='coerce')\n",
    "df_homes['sale_price'] = pd.to_numeric(df_homes['sale_price'], errors='coerce')\n",
    "df_homes.info()"
   ]
  },
  {
   "cell_type": "markdown",
   "metadata": {},
   "source": [
    "# Data Cleaining\n",
    "## Dealing with `null` values\n",
    "- use `isnull()`\n",
    "- combine it with the aggregate function `sum()`"
   ]
  },
  {
   "cell_type": "code",
   "execution_count": 152,
   "metadata": {
    "colab": {
     "base_uri": "https://localhost:8080/"
    },
    "id": "L0XOtBLgxQqY",
    "outputId": "89e26bb2-af97-4567-ea0e-b563fdf073f6",
    "tags": []
   },
   "outputs": [
    {
     "data": {
      "text/plain": [
       "district        0\n",
       "neighborhood    0\n",
       "block           0\n",
       "lot             0\n",
       "units           0\n",
       "land_sqft       0\n",
       "gross_sqft      0\n",
       "year_built      0\n",
       "sale_price      0\n",
       "building_age    0\n",
       "dtype: int64"
      ]
     },
     "execution_count": 152,
     "metadata": {},
     "output_type": "execute_result"
    }
   ],
   "source": [
    "df_homes.isnull()#.sum()"
   ]
  },
  {
   "cell_type": "markdown",
   "metadata": {},
   "source": [
    "## Replace NULL values.\n",
    "- we could replace all NA values to a fixed value: `df_homes.fillna(500)`\n",
    "- Alternatively, we can simply remove all rows that have NA using `dropna()`"
   ]
  },
  {
   "cell_type": "code",
   "execution_count": 96,
   "metadata": {
    "colab": {
     "base_uri": "https://localhost:8080/",
     "height": 206
    },
    "id": "HzVdfnXesU_O",
    "outputId": "f83950c6-acb5-4798-ee3e-4f9d7d09d175",
    "tags": []
   },
   "outputs": [
    {
     "data": {
      "text/html": [
       "<div>\n",
       "<style scoped>\n",
       "    .dataframe tbody tr th:only-of-type {\n",
       "        vertical-align: middle;\n",
       "    }\n",
       "\n",
       "    .dataframe tbody tr th {\n",
       "        vertical-align: top;\n",
       "    }\n",
       "\n",
       "    .dataframe thead th {\n",
       "        text-align: right;\n",
       "    }\n",
       "</style>\n",
       "<table border=\"1\" class=\"dataframe\">\n",
       "  <thead>\n",
       "    <tr style=\"text-align: right;\">\n",
       "      <th></th>\n",
       "      <th>district</th>\n",
       "      <th>neighborhood</th>\n",
       "      <th>block</th>\n",
       "      <th>lot</th>\n",
       "      <th>units</th>\n",
       "      <th>land_sqft</th>\n",
       "      <th>gross_sqft</th>\n",
       "      <th>year_built</th>\n",
       "      <th>sale_price</th>\n",
       "    </tr>\n",
       "  </thead>\n",
       "  <tbody>\n",
       "    <tr>\n",
       "      <th>1</th>\n",
       "      <td>1</td>\n",
       "      <td>ALPHABET CITY</td>\n",
       "      <td>399</td>\n",
       "      <td>26</td>\n",
       "      <td>31</td>\n",
       "      <td>4616</td>\n",
       "      <td>18690.0</td>\n",
       "      <td>1900</td>\n",
       "      <td>500.0</td>\n",
       "    </tr>\n",
       "    <tr>\n",
       "      <th>2</th>\n",
       "      <td>1</td>\n",
       "      <td>ALPHABET CITY</td>\n",
       "      <td>399</td>\n",
       "      <td>39</td>\n",
       "      <td>17</td>\n",
       "      <td>2212</td>\n",
       "      <td>7803.0</td>\n",
       "      <td>1900</td>\n",
       "      <td>500.0</td>\n",
       "    </tr>\n",
       "    <tr>\n",
       "      <th>4</th>\n",
       "      <td>1</td>\n",
       "      <td>ALPHABET CITY</td>\n",
       "      <td>405</td>\n",
       "      <td>16</td>\n",
       "      <td>20</td>\n",
       "      <td>2581</td>\n",
       "      <td>9730.0</td>\n",
       "      <td>1900</td>\n",
       "      <td>500.0</td>\n",
       "    </tr>\n",
       "    <tr>\n",
       "      <th>6</th>\n",
       "      <td>1</td>\n",
       "      <td>ALPHABET CITY</td>\n",
       "      <td>407</td>\n",
       "      <td>18</td>\n",
       "      <td>46</td>\n",
       "      <td>5163</td>\n",
       "      <td>21007.0</td>\n",
       "      <td>1900</td>\n",
       "      <td>500.0</td>\n",
       "    </tr>\n",
       "    <tr>\n",
       "      <th>8</th>\n",
       "      <td>1</td>\n",
       "      <td>ALPHABET CITY</td>\n",
       "      <td>394</td>\n",
       "      <td>44</td>\n",
       "      <td>34</td>\n",
       "      <td>4295</td>\n",
       "      <td>21328.0</td>\n",
       "      <td>1910</td>\n",
       "      <td>500.0</td>\n",
       "    </tr>\n",
       "  </tbody>\n",
       "</table>\n",
       "</div>"
      ],
      "text/plain": [
       "   district   neighborhood  block  lot  units land_sqft  gross_sqft   \n",
       "1         1  ALPHABET CITY    399   26     31      4616     18690.0  \\\n",
       "2         1  ALPHABET CITY    399   39     17      2212      7803.0   \n",
       "4         1  ALPHABET CITY    405   16     20      2581      9730.0   \n",
       "6         1  ALPHABET CITY    407   18     46      5163     21007.0   \n",
       "8         1  ALPHABET CITY    394   44     34      4295     21328.0   \n",
       "\n",
       "   year_built  sale_price  \n",
       "1        1900       500.0  \n",
       "2        1900       500.0  \n",
       "4        1900       500.0  \n",
       "6        1900       500.0  \n",
       "8        1910       500.0  "
      ]
     },
     "execution_count": 96,
     "metadata": {},
     "output_type": "execute_result"
    }
   ],
   "source": [
    "df_homes_filled = df_homes.fillna(500)\n",
    "df_homes_filled[df_homes_filled.sale_price==500].head()"
   ]
  },
  {
   "cell_type": "code",
   "execution_count": 97,
   "metadata": {
    "colab": {
     "base_uri": "https://localhost:8080/"
    },
    "id": "YXo2Rz027naQ",
    "outputId": "ae235a4e-d78d-4974-ce5e-10700959c6d6",
    "tags": []
   },
   "outputs": [
    {
     "data": {
      "text/plain": [
       "district        0\n",
       "neighborhood    0\n",
       "block           0\n",
       "lot             0\n",
       "units           0\n",
       "land_sqft       0\n",
       "gross_sqft      0\n",
       "year_built      0\n",
       "sale_price      0\n",
       "dtype: int64"
      ]
     },
     "execution_count": 97,
     "metadata": {},
     "output_type": "execute_result"
    }
   ],
   "source": [
    "df_homes = df_homes.dropna()\n",
    "df_homes.isnull().sum()"
   ]
  },
  {
   "cell_type": "markdown",
   "metadata": {
    "tags": []
   },
   "source": [
    "## Dealing with duplicates\n",
    "- Check to see if there are any duplicate records using `duplicated()`\n",
    "    - Note that we could specify the columns \n",
    "- Drop the duplicates using `drop_duplicates()`. Specify `keep` kwarg\n",
    "- Run `desci"
   ]
  },
  {
   "cell_type": "code",
   "execution_count": 137,
   "metadata": {
    "tags": []
   },
   "outputs": [
    {
     "data": {
      "text/plain": [
       "0"
      ]
     },
     "execution_count": 137,
     "metadata": {},
     "output_type": "execute_result"
    }
   ],
   "source": [
    "df_homes.duplicated().sum()"
   ]
  },
  {
   "cell_type": "code",
   "execution_count": 138,
   "metadata": {
    "colab": {
     "base_uri": "https://localhost:8080/"
    },
    "id": "LxV2o2X60Bi5",
    "outputId": "e61322db-5aea-42fc-855e-476ef109f6fc",
    "tags": []
   },
   "outputs": [
    {
     "data": {
      "text/plain": [
       "0"
      ]
     },
     "execution_count": 138,
     "metadata": {},
     "output_type": "execute_result"
    }
   ],
   "source": [
    "df_homes = df_homes.drop_duplicates(keep='last')\n",
    "sum(df_homes.duplicated())"
   ]
  },
  {
   "cell_type": "markdown",
   "metadata": {
    "tags": []
   },
   "source": [
    "## Removing data\n",
    "- Remove houses with a sale price of 0\n",
    "- Remove houses with a year build 0"
   ]
  },
  {
   "cell_type": "code",
   "execution_count": 101,
   "metadata": {
    "colab": {
     "base_uri": "https://localhost:8080/"
    },
    "id": "a101GCECAuq2",
    "outputId": "7d19b776-caf4-4fe6-e67f-1c596dbe13d9",
    "tags": []
   },
   "outputs": [
    {
     "data": {
      "text/plain": [
       "(30087, 9)"
      ]
     },
     "execution_count": 101,
     "metadata": {},
     "output_type": "execute_result"
    }
   ],
   "source": [
    "df_homes = df_homes[df_homes['sale_price'] > 0]\n",
    "df_homes.shape"
   ]
  },
  {
   "cell_type": "code",
   "execution_count": 102,
   "metadata": {
    "colab": {
     "base_uri": "https://localhost:8080/"
    },
    "id": "TKuSEgE1YC8T",
    "outputId": "aec0c810-ba69-47ad-8191-41b530eaadfd",
    "tags": []
   },
   "outputs": [
    {
     "data": {
      "text/plain": [
       "(28632, 9)"
      ]
     },
     "execution_count": 102,
     "metadata": {},
     "output_type": "execute_result"
    }
   ],
   "source": [
    "df_homes = df_homes[df_homes['year_built'] > 0]\n",
    "df_homes.shape"
   ]
  },
  {
   "cell_type": "markdown",
   "metadata": {},
   "source": [
    "## Adding columns\n",
    "- Compute the building age and add it as a new column"
   ]
  },
  {
   "cell_type": "code",
   "execution_count": 103,
   "metadata": {
    "colab": {
     "base_uri": "https://localhost:8080/",
     "height": 250
    },
    "id": "6twBM3N2XHlR",
    "outputId": "eee4f0fe-aae6-4953-9528-05073d53cc1b",
    "tags": []
   },
   "outputs": [
    {
     "data": {
      "text/html": [
       "<div>\n",
       "<style scoped>\n",
       "    .dataframe tbody tr th:only-of-type {\n",
       "        vertical-align: middle;\n",
       "    }\n",
       "\n",
       "    .dataframe tbody tr th {\n",
       "        vertical-align: top;\n",
       "    }\n",
       "\n",
       "    .dataframe thead th {\n",
       "        text-align: right;\n",
       "    }\n",
       "</style>\n",
       "<table border=\"1\" class=\"dataframe\">\n",
       "  <thead>\n",
       "    <tr style=\"text-align: right;\">\n",
       "      <th></th>\n",
       "      <th>district</th>\n",
       "      <th>neighborhood</th>\n",
       "      <th>block</th>\n",
       "      <th>lot</th>\n",
       "      <th>units</th>\n",
       "      <th>land_sqft</th>\n",
       "      <th>gross_sqft</th>\n",
       "      <th>year_built</th>\n",
       "      <th>sale_price</th>\n",
       "      <th>building_age</th>\n",
       "    </tr>\n",
       "  </thead>\n",
       "  <tbody>\n",
       "    <tr>\n",
       "      <th>0</th>\n",
       "      <td>1</td>\n",
       "      <td>ALPHABET CITY</td>\n",
       "      <td>392</td>\n",
       "      <td>6</td>\n",
       "      <td>5</td>\n",
       "      <td>1633</td>\n",
       "      <td>6440.0</td>\n",
       "      <td>1900</td>\n",
       "      <td>6625000.0</td>\n",
       "      <td>122</td>\n",
       "    </tr>\n",
       "    <tr>\n",
       "      <th>3</th>\n",
       "      <td>1</td>\n",
       "      <td>ALPHABET CITY</td>\n",
       "      <td>404</td>\n",
       "      <td>55</td>\n",
       "      <td>6</td>\n",
       "      <td>2369</td>\n",
       "      <td>4615.0</td>\n",
       "      <td>1900</td>\n",
       "      <td>8000000.0</td>\n",
       "      <td>122</td>\n",
       "    </tr>\n",
       "    <tr>\n",
       "      <th>5</th>\n",
       "      <td>1</td>\n",
       "      <td>ALPHABET CITY</td>\n",
       "      <td>406</td>\n",
       "      <td>32</td>\n",
       "      <td>8</td>\n",
       "      <td>1750</td>\n",
       "      <td>4226.0</td>\n",
       "      <td>1920</td>\n",
       "      <td>3192840.0</td>\n",
       "      <td>102</td>\n",
       "    </tr>\n",
       "    <tr>\n",
       "      <th>7</th>\n",
       "      <td>1</td>\n",
       "      <td>ALPHABET CITY</td>\n",
       "      <td>387</td>\n",
       "      <td>153</td>\n",
       "      <td>24</td>\n",
       "      <td>4489</td>\n",
       "      <td>18523.0</td>\n",
       "      <td>1920</td>\n",
       "      <td>16232000.0</td>\n",
       "      <td>102</td>\n",
       "    </tr>\n",
       "    <tr>\n",
       "      <th>17</th>\n",
       "      <td>1</td>\n",
       "      <td>ALPHABET CITY</td>\n",
       "      <td>376</td>\n",
       "      <td>14</td>\n",
       "      <td>24</td>\n",
       "      <td>4131</td>\n",
       "      <td>16776.0</td>\n",
       "      <td>1928</td>\n",
       "      <td>11900000.0</td>\n",
       "      <td>94</td>\n",
       "    </tr>\n",
       "  </tbody>\n",
       "</table>\n",
       "</div>"
      ],
      "text/plain": [
       "    district   neighborhood  block  lot  units land_sqft  gross_sqft   \n",
       "0          1  ALPHABET CITY    392    6      5      1633      6440.0  \\\n",
       "3          1  ALPHABET CITY    404   55      6      2369      4615.0   \n",
       "5          1  ALPHABET CITY    406   32      8      1750      4226.0   \n",
       "7          1  ALPHABET CITY    387  153     24      4489     18523.0   \n",
       "17         1  ALPHABET CITY    376   14     24      4131     16776.0   \n",
       "\n",
       "    year_built  sale_price  building_age  \n",
       "0         1900   6625000.0           122  \n",
       "3         1900   8000000.0           122  \n",
       "5         1920   3192840.0           102  \n",
       "7         1920  16232000.0           102  \n",
       "17        1928  11900000.0            94  "
      ]
     },
     "execution_count": 103,
     "metadata": {},
     "output_type": "execute_result"
    }
   ],
   "source": [
    "df_homes['building_age'] = 2022 - df_homes['year_built']\n",
    "df_homes.head()"
   ]
  },
  {
   "cell_type": "markdown",
   "metadata": {
    "tags": []
   },
   "source": [
    "## Remove outliers\n",
    "- Remove properties that have SQFT greater than 10,000.\n"
   ]
  },
  {
   "cell_type": "code",
   "execution_count": 106,
   "metadata": {
    "colab": {
     "base_uri": "https://localhost:8080/"
    },
    "id": "QRFOsvdj3GF4",
    "outputId": "0a17d11c-727d-472d-d5d7-5cf857ddfd04",
    "tags": []
   },
   "outputs": [
    {
     "data": {
      "text/plain": [
       "(27465, 10)"
      ]
     },
     "execution_count": 106,
     "metadata": {},
     "output_type": "execute_result"
    }
   ],
   "source": [
    "# Remove properties that have SQFT greater than 10,000.\n",
    "df_homes = df_homes[df_homes['gross_sqft'] < 10000]\n",
    "df_homes = df_homes[df_homes['land_sqft'] < 10000]\n",
    "df_homes.shape"
   ]
  },
  {
   "cell_type": "markdown",
   "metadata": {
    "tags": []
   },
   "source": [
    "# Replace the district/bouroughs numbers with their actual name.\n",
    "- https://en.wikipedia.org/wiki/Boroughs_of_New_York_City"
   ]
  },
  {
   "cell_type": "code",
   "execution_count": 151,
   "metadata": {
    "colab": {
     "base_uri": "https://localhost:8080/"
    },
    "id": "r_A4BTVQHlfq",
    "outputId": "aa4e564f-3c27-40e3-acd6-5dd60bde4a84",
    "tags": []
   },
   "outputs": [],
   "source": [
    "distric_nums = [1, 2, 3, 4, 5]\n",
    "district_names =  ['Manhattan', 'Bronx', 'Brooklyn', 'Queens',  'Staten Island']\n",
    "df_homes['district'] = df_homes['district'].replace(distric_nums, district_names)"
   ]
  },
  {
   "cell_type": "markdown",
   "metadata": {
    "tags": []
   },
   "source": [
    "# Data analysis\n",
    "-  Count frequencies in a categorical column. `df_homes['neighborhood'].value_counts()`"
   ]
  },
  {
   "cell_type": "code",
   "execution_count": 140,
   "metadata": {
    "colab": {
     "base_uri": "https://localhost:8080/"
    },
    "id": "TIvowM0LUxSm",
    "outputId": "a6f8722a-c6bc-4dd9-b91d-eefb60cbd7dc",
    "tags": []
   },
   "outputs": [
    {
     "data": {
      "text/plain": [
       "district\n",
       "Brooklyn         11009\n",
       "Queens            8596\n",
       "Staten Island     3804\n",
       "Bronx             3580\n",
       "Manhattan          476\n",
       "Name: count, dtype: int64"
      ]
     },
     "execution_count": 140,
     "metadata": {},
     "output_type": "execute_result"
    }
   ],
   "source": [
    "df_homes['district'].value_counts()"
   ]
  },
  {
   "cell_type": "markdown",
   "metadata": {},
   "source": [
    "# Sample some homes\n",
    "randomly select two rows"
   ]
  },
  {
   "cell_type": "code",
   "execution_count": 143,
   "metadata": {
    "colab": {
     "base_uri": "https://localhost:8080/"
    },
    "id": "YOZso5Qbv0PG",
    "outputId": "30f34e12-d405-4d37-b2ea-2130c4dddd9d",
    "tags": []
   },
   "outputs": [
    {
     "data": {
      "text/html": [
       "<div>\n",
       "<style scoped>\n",
       "    .dataframe tbody tr th:only-of-type {\n",
       "        vertical-align: middle;\n",
       "    }\n",
       "\n",
       "    .dataframe tbody tr th {\n",
       "        vertical-align: top;\n",
       "    }\n",
       "\n",
       "    .dataframe thead th {\n",
       "        text-align: right;\n",
       "    }\n",
       "</style>\n",
       "<table border=\"1\" class=\"dataframe\">\n",
       "  <thead>\n",
       "    <tr style=\"text-align: right;\">\n",
       "      <th></th>\n",
       "      <th>district</th>\n",
       "      <th>neighborhood</th>\n",
       "      <th>block</th>\n",
       "      <th>lot</th>\n",
       "      <th>units</th>\n",
       "      <th>land_sqft</th>\n",
       "      <th>gross_sqft</th>\n",
       "      <th>year_built</th>\n",
       "      <th>sale_price</th>\n",
       "      <th>building_age</th>\n",
       "    </tr>\n",
       "  </thead>\n",
       "  <tbody>\n",
       "    <tr>\n",
       "      <th>20742</th>\n",
       "      <td>Brooklyn</td>\n",
       "      <td>BAY RIDGE</td>\n",
       "      <td>5856</td>\n",
       "      <td>32</td>\n",
       "      <td>2</td>\n",
       "      <td>3433</td>\n",
       "      <td>2582.0</td>\n",
       "      <td>1920</td>\n",
       "      <td>533360.0</td>\n",
       "      <td>102</td>\n",
       "    </tr>\n",
       "    <tr>\n",
       "      <th>58426</th>\n",
       "      <td>Queens</td>\n",
       "      <td>SOUTH OZONE PARK</td>\n",
       "      <td>11736</td>\n",
       "      <td>19</td>\n",
       "      <td>1</td>\n",
       "      <td>3000</td>\n",
       "      <td>1888.0</td>\n",
       "      <td>1930</td>\n",
       "      <td>755000.0</td>\n",
       "      <td>92</td>\n",
       "    </tr>\n",
       "  </tbody>\n",
       "</table>\n",
       "</div>"
      ],
      "text/plain": [
       "       district      neighborhood  block  lot  units  land_sqft  gross_sqft   \n",
       "20742  Brooklyn         BAY RIDGE   5856   32      2       3433      2582.0  \\\n",
       "58426    Queens  SOUTH OZONE PARK  11736   19      1       3000      1888.0   \n",
       "\n",
       "       year_built  sale_price  building_age  \n",
       "20742        1920    533360.0           102  \n",
       "58426        1930    755000.0            92  "
      ]
     },
     "execution_count": 143,
     "metadata": {},
     "output_type": "execute_result"
    }
   ],
   "source": [
    "df_homes.sample(n=2)"
   ]
  },
  {
   "cell_type": "markdown",
   "metadata": {},
   "source": [
    "# Grouping\n",
    "- find the average sale price for each district"
   ]
  },
  {
   "cell_type": "code",
   "execution_count": 142,
   "metadata": {},
   "outputs": [
    {
     "data": {
      "text/html": [
       "<div>\n",
       "<style scoped>\n",
       "    .dataframe tbody tr th:only-of-type {\n",
       "        vertical-align: middle;\n",
       "    }\n",
       "\n",
       "    .dataframe tbody tr th {\n",
       "        vertical-align: top;\n",
       "    }\n",
       "\n",
       "    .dataframe thead th {\n",
       "        text-align: right;\n",
       "    }\n",
       "</style>\n",
       "<table border=\"1\" class=\"dataframe\">\n",
       "  <thead>\n",
       "    <tr style=\"text-align: right;\">\n",
       "      <th></th>\n",
       "      <th>sale_price</th>\n",
       "    </tr>\n",
       "    <tr>\n",
       "      <th>district</th>\n",
       "      <th></th>\n",
       "    </tr>\n",
       "  </thead>\n",
       "  <tbody>\n",
       "    <tr>\n",
       "      <th>Bronx</th>\n",
       "      <td>4.668450e+05</td>\n",
       "    </tr>\n",
       "    <tr>\n",
       "      <th>Brooklyn</th>\n",
       "      <td>1.007037e+06</td>\n",
       "    </tr>\n",
       "    <tr>\n",
       "      <th>Manhattan</th>\n",
       "      <td>6.477380e+06</td>\n",
       "    </tr>\n",
       "    <tr>\n",
       "      <th>Queens</th>\n",
       "      <td>6.995391e+05</td>\n",
       "    </tr>\n",
       "    <tr>\n",
       "      <th>Staten Island</th>\n",
       "      <td>4.902122e+05</td>\n",
       "    </tr>\n",
       "  </tbody>\n",
       "</table>\n",
       "</div>"
      ],
      "text/plain": [
       "                 sale_price\n",
       "district                   \n",
       "Bronx          4.668450e+05\n",
       "Brooklyn       1.007037e+06\n",
       "Manhattan      6.477380e+06\n",
       "Queens         6.995391e+05\n",
       "Staten Island  4.902122e+05"
      ]
     },
     "execution_count": 142,
     "metadata": {},
     "output_type": "execute_result"
    }
   ],
   "source": [
    "df_homes[['district', 'sale_price']].groupby('district').mean()"
   ]
  },
  {
   "cell_type": "markdown",
   "metadata": {},
   "source": [
    "# Pivot \n",
    "Explore data using pivot tables."
   ]
  },
  {
   "cell_type": "code",
   "execution_count": 120,
   "metadata": {
    "colab": {
     "base_uri": "https://localhost:8080/",
     "height": 486
    },
    "id": "4a8_QFCSuD_d",
    "outputId": "6dac71ba-de29-430b-b6af-bddbf7ede30e",
    "tags": []
   },
   "outputs": [
    {
     "data": {
      "text/html": [
       "<div>\n",
       "<style scoped>\n",
       "    .dataframe tbody tr th:only-of-type {\n",
       "        vertical-align: middle;\n",
       "    }\n",
       "\n",
       "    .dataframe tbody tr th {\n",
       "        vertical-align: top;\n",
       "    }\n",
       "\n",
       "    .dataframe thead th {\n",
       "        text-align: right;\n",
       "    }\n",
       "</style>\n",
       "<table border=\"1\" class=\"dataframe\">\n",
       "  <thead>\n",
       "    <tr style=\"text-align: right;\">\n",
       "      <th></th>\n",
       "      <th>sale_price</th>\n",
       "    </tr>\n",
       "    <tr>\n",
       "      <th>district</th>\n",
       "      <th></th>\n",
       "    </tr>\n",
       "  </thead>\n",
       "  <tbody>\n",
       "    <tr>\n",
       "      <th>Bronx</th>\n",
       "      <td>4.668450e+05</td>\n",
       "    </tr>\n",
       "    <tr>\n",
       "      <th>Brooklyn</th>\n",
       "      <td>1.007037e+06</td>\n",
       "    </tr>\n",
       "    <tr>\n",
       "      <th>Manhattan</th>\n",
       "      <td>6.477380e+06</td>\n",
       "    </tr>\n",
       "    <tr>\n",
       "      <th>Queens</th>\n",
       "      <td>6.995391e+05</td>\n",
       "    </tr>\n",
       "    <tr>\n",
       "      <th>Staten Island</th>\n",
       "      <td>4.902122e+05</td>\n",
       "    </tr>\n",
       "  </tbody>\n",
       "</table>\n",
       "</div>"
      ],
      "text/plain": [
       "                 sale_price\n",
       "district                   \n",
       "Bronx          4.668450e+05\n",
       "Brooklyn       1.007037e+06\n",
       "Manhattan      6.477380e+06\n",
       "Queens         6.995391e+05\n",
       "Staten Island  4.902122e+05"
      ]
     },
     "execution_count": 120,
     "metadata": {},
     "output_type": "execute_result"
    }
   ],
   "source": [
    "# Explore data using pivot tables.\n",
    "pd.pivot_table(df_homes, index=['district'], values=['sale_price'])"
   ]
  },
  {
   "cell_type": "markdown",
   "metadata": {},
   "source": [
    "# Visualize\n",
    "- plot the `gross_sqft` against tge `land_sqft`\n",
    "- make a histogram of the `land_sqft`"
   ]
  },
  {
   "cell_type": "code",
   "execution_count": 144,
   "metadata": {
    "tags": []
   },
   "outputs": [
    {
     "data": {
      "text/plain": [
       "<Axes: xlabel='land_sqft', ylabel='gross_sqft'>"
      ]
     },
     "execution_count": 144,
     "metadata": {},
     "output_type": "execute_result"
    },
    {
     "data": {
      "image/png": "[encoded data removed]",
      "text/plain": [
       "<Figure size 640x480 with 1 Axes>"
      ]
     },
     "metadata": {},
     "output_type": "display_data"
    }
   ],
   "source": [
    "df_homes.plot.scatter('land_sqft', 'gross_sqft')"
   ]
  },
  {
   "cell_type": "code",
   "execution_count": 150,
   "metadata": {
    "tags": []
   },
   "outputs": [
    {
     "data": {
      "text/plain": [
       "array([[<Axes: title={'center': 'land_sqft'}>]], dtype=object)"
      ]
     },
     "execution_count": 150,
     "metadata": {},
     "output_type": "execute_result"
    },
    {
     "data": {
      "image/png": "[encoded data removed]",
      "text/plain": [
       "<Figure size 640x480 with 1 Axes>"
      ]
     },
     "metadata": {},
     "output_type": "display_data"
    }
   ],
   "source": [
    "df_homes.hist('land_sqft', bins=10)"
   ]
  },
  {
   "cell_type": "code",
   "execution_count": null,
   "metadata": {},
   "outputs": [],
   "source": []
  }
 ],
 "metadata": {
  "colab": {
   "provenance": []
  },
  "kernelspec": {
   "display_name": "Python 3 (ipykernel)",
   "language": "python",
   "name": "python3"
  },
  "language_info": {
   "codemirror_mode": {
    "name": "ipython",
    "version": 3
   },
   "file_extension": ".py",
   "mimetype": "text/x-python",
   "name": "python",
   "nbconvert_exporter": "python",
   "pygments_lexer": "ipython3",
   "version": "3.10.6"
  }
 },
 "nbformat": 4,
 "nbformat_minor": 4
}
