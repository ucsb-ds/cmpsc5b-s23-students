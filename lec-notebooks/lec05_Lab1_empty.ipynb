{
 "cells": [
  {
   "cell_type": "code",
   "execution_count": null,
   "id": "f99968db-1d53-4188-b7da-f71bd2d683dc",
   "metadata": {
    "tags": []
   },
   "outputs": [],
   "source": [
    "from datascience import *\n",
    "import numpy as np\n",
    "%matplotlib inline\n",
    "import matplotlib.pyplot as plots\n",
    "plots.style.use('fivethirtyeight')"
   ]
  },
  {
   "cell_type": "markdown",
   "id": "ec0172b5-b223-4ef5-bdaf-3bfd7d45a03a",
   "metadata": {
    "tags": []
   },
   "source": [
    "# Lab 1; last question\n",
    "Chloe is a big fan of Trader Joes’ frozen mac n cheese, but she noticed that the cheese used in it varies from box to box. A Trader Joe’s employee provides her with some data about the 4 different cheeses used and the probability of them being used in each box: \n",
    "\n",
    "\n",
    "| Cheese |Velveeta |Gruyère|Sharp Cheddar | Monterey Jack |\n",
    "|---:|---:|---:|---:|---:|\n",
    "| Probability | 0.05|0.55|0.25|0.15|\n",
    "\n",
    "\n",
    "Chloe is suspicious about this distribution. After all, Velveeta is much cheaper to use than Gruyère, and she has also never bought a box that uses Gruyère. Chloe decides to buy many boxes throughout the next month and tracks the type of cheese used in each box. She uses this to conduct a hypothesis test. "
   ]
  },
  {
   "cell_type": "markdown",
   "id": "03359749-6ed6-4c18-8c2d-96a25078fde2",
   "metadata": {},
   "source": [
    "## Write the correct null hypothesis for this experiment\n",
    "Null Hypothesis: \n",
    "Alternative Hypothesis: \n",
    "\n",
    "```python\n",
    "observed_proportions = make_array(0.2, 0.3, 0.45, 0.05)\n",
    "observed_proportions = make_array(0.1, 0.4, 0.41, 0.09)\n",
    "employee_proportions = make_array(0.05, 0.55, 0.25, 0.15)\n",
    "```\n",
    "\n",
    "The array observed_proportions contains the proportions of cheese that Chloe observed in 20 boxes of Mac n Cheese. "
   ]
  },
  {
   "cell_type": "markdown",
   "id": "42f99b02-d2b4-45e5-8803-9f049ad199c9",
   "metadata": {},
   "source": [
    "Null Hypothesis:\n",
    "Alternative: "
   ]
  },
  {
   "cell_type": "markdown",
   "id": "2f91074b-915e-4904-86b2-684fe333e416",
   "metadata": {
    "tags": []
   },
   "source": [
    "## Mean vs TVD\n",
    "\n",
    "Chloe wants to use the mean as a test statistic, but Katherine suggests that she uses the TVD (total variation distance)  instead. Which test statistic should Chloe use in this case? Briefly justify your answer. \n",
    "\n",
    "Then write a line of code to assign the observed value of the test statistic to observed_stat. "
   ]
  },
  {
   "cell_type": "code",
   "execution_count": null,
   "id": "e4d8a93b-5c72-4b31-9703-a8e6abe06abf",
   "metadata": {
    "tags": []
   },
   "outputs": [],
   "source": [
    "observed_stat = "
   ]
  },
  {
   "cell_type": "markdown",
   "id": "f51f3679-cab9-4bbc-994c-040a3472b1cb",
   "metadata": {},
   "source": [
    "## Define function\n",
    "Define the function `one_simulated_test_stat()` to simulate a random sample according to the null hypothesis and return the test statistic for that sample. (use the function `sample_proportions()`)."
   ]
  },
  {
   "cell_type": "code",
   "execution_count": null,
   "id": "7530d58d-92eb-4e49-930b-3ed91abc8d90",
   "metadata": {},
   "outputs": [],
   "source": [
    "def one_simulated_test_stat():\n",
    "    sample_prop = \n",
    "    return "
   ]
  },
  {
   "cell_type": "markdown",
   "id": "e6455a18-f912-4fa1-8db3-7fd47dc5a18f",
   "metadata": {},
   "source": [
    "## Simulation\n",
    "Chloe simulates the test statistic 10,000 times and stores the results in an array called simulated_stats. The observed value of the test statistic is stored in observed_stat. Complete the code below so that it evaluates to the p-value of the test:"
   ]
  },
  {
   "cell_type": "code",
   "execution_count": null,
   "id": "47dbc2a9-f39f-4e91-b4ac-b24f420cc577",
   "metadata": {},
   "outputs": [],
   "source": [
    "_____________(simulated_stats _________ observed_statistic) / _____________"
   ]
  },
  {
   "cell_type": "markdown",
   "id": "fb26fc41-8520-4067-8b34-3ae44a1f198b",
   "metadata": {},
   "source": [
    "## Reject/accept:\n",
    "Given that the computed p-value is 0.0825, which of the following are true? Select all that may apply. \n",
    "- Using an 8% p-value cutoff, the null hypothesis should be rejected \n",
    "- Using a 10% p-value cutoff, the null hypothesis should be rejected. \n",
    "- There is an 8.25% chance that the null hypothesis is true \n",
    "- There is an 8.25% chance that the alternative hypothesis is true "
   ]
  },
  {
   "cell_type": "code",
   "execution_count": null,
   "id": "77c36430-3b6f-460c-8fd2-5b01b428698e",
   "metadata": {},
   "outputs": [],
   "source": []
  }
 ],
 "metadata": {
  "kernelspec": {
   "display_name": "Python 3 (ipykernel)",
   "language": "python",
   "name": "python3"
  },
  "language_info": {
   "codemirror_mode": {
    "name": "ipython",
    "version": 3
   },
   "file_extension": ".py",
   "mimetype": "text/x-python",
   "name": "python",
   "nbconvert_exporter": "python",
   "pygments_lexer": "ipython3",
   "version": "3.10.6"
  }
 },
 "nbformat": 4,
 "nbformat_minor": 5
}
